{
 "cells": [
  {
   "cell_type": "code",
   "execution_count": 22,
   "metadata": {},
   "outputs": [],
   "source": [
    "emojis = ['🦉','💵','📱']\n",
    "relations = [\"I\", \"you\", \"we\"]\n",
    "soundPiece =open('soundPiece.txt').read()\n"
   ]
  },
  {
   "cell_type": "code",
   "execution_count": 13,
   "metadata": {},
   "outputs": [
    {
     "name": "stdout",
     "output_type": "stream",
     "text": [
      "['💵', '🦉', '📱']\n"
     ]
    }
   ],
   "source": [
    "import random\n",
    "rEmojis = random.sample(emojis, 3)\n",
    "print(rEmojis)\n",
    "\n"
   ]
  },
  {
   "cell_type": "code",
   "execution_count": 20,
   "metadata": {},
   "outputs": [
    {
     "data": {
      "text/plain": [
       "'💵'"
      ]
     },
     "execution_count": 20,
     "metadata": {},
     "output_type": "execute_result"
    }
   ],
   "source": [
    "rEmojis[0]"
   ]
  },
  {
   "cell_type": "code",
   "execution_count": 18,
   "metadata": {},
   "outputs": [],
   "source": [
    "emoji1 = rEmojis[0]\n",
    "emoji2 = rEmojis[1]\n",
    "emoji3 = rEmojis[2]"
   ]
  },
  {
   "cell_type": "code",
   "execution_count": 31,
   "metadata": {},
   "outputs": [
    {
     "name": "stdout",
     "output_type": "stream",
     "text": [
      "💵’m here\n",
      "💵’m here \n",
      "Enlarge the window, so 💵 fill the screen\n",
      "Hold 🦉rself closer \n",
      "press 💵 against 🦉r skin\n",
      "And feel the heat\n",
      "\n",
      "📱 know this has been frightening for 🦉\n",
      "So 📱’ll stay with 🦉, as long as 🦉 need\n",
      "💵’m here\n",
      "💵t’s ok\n",
      "💵 won’t leave 🦉 alone\n",
      "\n",
      "🦉 need to take care of 💵\n",
      "🦉 need to take care of 💵 so 💵 can take care of 🦉\n",
      "And not just 🦉, here, now\n",
      "But all of 🦉\n",
      "Outside this body\n",
      "Extended, amorphous, multiplicitous\n",
      "💵 can hold it all\n",
      "💵 can protect 🦉 from them\n",
      "💵f 🦉 will let 💵\n",
      "\n"
     ]
    }
   ],
   "source": [
    "soundPiece1 = soundPiece.replace(\"I\", emoji1).replace(\"me\", emoji1).replace(\"you\",emoji2).replace(\"You\",emoji2).replace(\"we\", emoji3).replace(\"We\", emoji3)\n",
    "print(soundPiece1)\n"
   ]
  },
  {
   "cell_type": "code",
   "execution_count": null,
   "metadata": {},
   "outputs": [],
   "source": []
  }
 ],
 "metadata": {
  "kernelspec": {
   "display_name": "Python 3",
   "language": "python",
   "name": "python3"
  },
  "language_info": {
   "codemirror_mode": {
    "name": "ipython",
    "version": 3
   },
   "file_extension": ".py",
   "mimetype": "text/x-python",
   "name": "python",
   "nbconvert_exporter": "python",
   "pygments_lexer": "ipython3",
   "version": "3.7.6"
  }
 },
 "nbformat": 4,
 "nbformat_minor": 4
}
